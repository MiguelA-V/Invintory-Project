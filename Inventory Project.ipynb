{
 "cells": [
  {
   "cell_type": "code",
   "execution_count": 34,
   "id": "562c3c48",
   "metadata": {},
   "outputs": [
    {
     "name": "stdout",
     "output_type": "stream",
     "text": [
      "box of noodles\n",
      "plastic cups\n",
      "lucky charms cereal\n",
      "bandaids\n"
     ]
    }
   ],
   "source": [
    "#The initial invintory problem and we are sorting them into seperate list. \n",
    "#First I want to pull apart the strings and integers\n",
    "inv = ['box of noodles', 25,\n",
    "      'plastic cups', 45,\n",
    "      'lucky charms cereal', 90,\n",
    "      'bandaids', 30]\n",
    "#Here I am sorting only string in the invintory list\n",
    "for product in inv:\n",
    "    if(type(product) == str):\n",
    "        print(product)\n",
    "        \n"
   ]
  },
  {
   "cell_type": "code",
   "execution_count": 30,
   "id": "9f0bf839",
   "metadata": {},
   "outputs": [
    {
     "name": "stdout",
     "output_type": "stream",
     "text": [
      "25\n",
      "45\n",
      "90\n",
      "30\n"
     ]
    }
   ],
   "source": [
    "#Now I'm sorting only intigers\n",
    "for count in inv:\n",
    "    if(type(count)== int):\n",
    "        print(count)"
   ]
  },
  {
   "cell_type": "code",
   "execution_count": 52,
   "id": "84d92b0c",
   "metadata": {},
   "outputs": [
    {
     "name": "stdout",
     "output_type": "stream",
     "text": [
      "['box of noodles', 'plastic cups', 'lucky charms cereal', 'bandaids'] [25, 45, 90, 30]\n"
     ]
    }
   ],
   "source": [
    "#Now that we can DO that, lets try something else. Pull apart the strings and integers into empty lists \n",
    "#labled product and count\n",
    "\n",
    "inv = ['box of noodles', 25,\n",
    "      'plastic cups', 45,\n",
    "      'lucky charms cereal', 90,\n",
    "      'bandaids', 30]\n",
    "product = []\n",
    "count = []\n",
    "\n",
    "#We have our empty bins above. now use 'isinstance' and elif to determine if the values are string or integer\n",
    "#and sort them into the appropreate bin or list\n",
    "\n",
    "for item in inv:\n",
    "    #if Item is a string\n",
    "    if isinstance(item,str):\n",
    "        #append item to product list\n",
    "        product.append(item)\n",
    "    elif isinstance(item, int):\n",
    "        count.append(item)\n",
    "print(product,count)"
   ]
  },
  {
   "cell_type": "code",
   "execution_count": 59,
   "id": "f00742f7",
   "metadata": {
    "scrolled": true
   },
   "outputs": [
    {
     "name": "stdout",
     "output_type": "stream",
     "text": [
      "*******************************************\n",
      "these are a list of the products:\n",
      "['box of noodles', 'plastic cups', 'lucky charms cereal', 'bandaids']\n",
      "********************************************\n",
      "these are a list of the count:\n",
      "[25, 45, 90, 30]\n"
     ]
    }
   ],
   "source": [
    "inv = ['box of noodles', 25,\n",
    "      'plastic cups', 45,\n",
    "      'lucky charms cereal', 90,\n",
    "      'bandaids', 30]\n",
    "\n",
    "#Setting up our empty buckets\n",
    "product = []\n",
    "count = []\n",
    "\n",
    "\n",
    "# for each item in the list if it is a string place it in the product bucket\n",
    "#if it is a integer place it in the count bucket\n",
    "for item in inv:\n",
    "    # if an item is a string\n",
    "    if isinstance(item, str):\n",
    "        # append the item to s list\n",
    "        product.append(item)\n",
    "    elif isinstance(item, int):\n",
    "        count.append(item)\n",
    "##pretty much were doing the same as above just making it look good with print statements.\n",
    "#Notice how the orintation of the numbers do not change from the list. noodles still matches up with 25, cups still \n",
    "#match up with 45 and so on. \n",
    "    \n",
    "##print(product, count)\n",
    "print('*******************************************')\n",
    "print('these are a list of the products:')\n",
    "print(product)\n",
    "print('********************************************')\n",
    "print('these are a list of the count:')\n",
    "print(count)"
   ]
  },
  {
   "cell_type": "code",
   "execution_count": null,
   "id": "e9021d81",
   "metadata": {},
   "outputs": [],
   "source": []
  },
  {
   "cell_type": "code",
   "execution_count": null,
   "id": "78b7e6b6",
   "metadata": {},
   "outputs": [],
   "source": []
  }
 ],
 "metadata": {
  "kernelspec": {
   "display_name": "Python 3 (ipykernel)",
   "language": "python",
   "name": "python3"
  },
  "language_info": {
   "codemirror_mode": {
    "name": "ipython",
    "version": 3
   },
   "file_extension": ".py",
   "mimetype": "text/x-python",
   "name": "python",
   "nbconvert_exporter": "python",
   "pygments_lexer": "ipython3",
   "version": "3.9.7"
  }
 },
 "nbformat": 4,
 "nbformat_minor": 5
}
